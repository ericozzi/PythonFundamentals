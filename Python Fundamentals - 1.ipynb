{
 "cells": [
  {
   "cell_type": "markdown",
   "id": "4f2577b5-2c09-44e8-ac47-6c343ebc7c46",
   "metadata": {},
   "source": [
    "# Your First Python Program\n",
    "Whenever learning a new programming language, typically the first program you learn to write is the so called \"Hello World\" program. All this program does, is print \"Hello World\" to the screen (or equivilent).\n",
    "\n",
    "Below is the python version of \"Hello World\"."
   ]
  },
  {
   "cell_type": "code",
   "execution_count": 11,
   "id": "b59df0b3-0233-4f43-826d-33580cdce66c",
   "metadata": {},
   "outputs": [
    {
     "name": "stdout",
     "output_type": "stream",
     "text": [
      "Hello World\n"
     ]
    }
   ],
   "source": [
    "print(\"Hello World\")"
   ]
  },
  {
   "cell_type": "markdown",
   "id": "c14045cc-0043-4a4b-977d-74207644120c",
   "metadata": {},
   "source": [
    "One line! That's it! \n",
    "\n",
    "While the program is small, let's talk about it.\n",
    "\n",
    "         print ( \"Hello World\" ) \n",
    "           ^   ^       ^       ^\n",
    "           |   |       |       |\n",
    "           |   |       |       +-- Closing parenthesis\n",
    "           |   |       |\n",
    "           |   |       +-- The string \"Hello World\"\n",
    "           |   |\n",
    "           |   +-- \"Opening Parenthesis\"\n",
    "           |\n",
    "           +-- The function \"print\" is used to print information to the screen"
   ]
  },
  {
   "cell_type": "markdown",
   "id": "2cebdc52-c036-441a-9d3e-c9f3bbda7311",
   "metadata": {},
   "source": [
    "# Python Basic Types"
   ]
  },
  {
   "cell_type": "markdown",
   "id": "2b9648c8-500b-424b-ab4a-9617956ac3da",
   "metadata": {},
   "source": [
    "## Strings\n",
    "A string is a sequence of characters. It can be someone's name, an address, or anything else that makes sense. A string is enclosed within a set of quotes (either single or double quote, though single quotes are preferred). For example:"
   ]
  },
  {
   "cell_type": "code",
   "execution_count": 1,
   "id": "3cca4e29-3e96-47d5-b919-f2539db2897c",
   "metadata": {},
   "outputs": [],
   "source": [
    "name = \"Ebenezer Scrooge\"\n",
    "address = \"123 Any Street, Anytown, ST 11223\""
   ]
  },
  {
   "cell_type": "markdown",
   "id": "f6005d5a-b425-4c29-a315-82a05fefd6f5",
   "metadata": {},
   "source": [
    "## Integer Numbers (whole numbers)\n",
    "An integer number is any number so long as it does not have a fractional part. For instance:"
   ]
  },
  {
   "cell_type": "code",
   "execution_count": 2,
   "id": "d9c00d06-85fc-42a3-9c60-b7e08b7676c9",
   "metadata": {},
   "outputs": [],
   "source": [
    "age = 17\n",
    "zip_code = 11223"
   ]
  },
  {
   "cell_type": "markdown",
   "id": "5cd988f1-84ba-4d46-958b-e28b65dc72b0",
   "metadata": {},
   "source": [
    "## Floating Point or Real Numbers (decimal numbers)\n",
    "A floating point or real number is any number that has a decimal part. For example:"
   ]
  },
  {
   "cell_type": "code",
   "execution_count": 3,
   "id": "7383939b-6e00-4de4-b9be-3b46454838f8",
   "metadata": {},
   "outputs": [],
   "source": [
    "pi = 3.14159\n",
    "total_cost = 42.67"
   ]
  },
  {
   "cell_type": "markdown",
   "id": "03208b7c-ebfe-4e99-897f-2675b17c0343",
   "metadata": {},
   "source": [
    "## Lists\n",
    "A list is a collection of related values. For example:"
   ]
  },
  {
   "cell_type": "code",
   "execution_count": 8,
   "id": "e2e453a6-3190-4275-a668-9679a98443f0",
   "metadata": {},
   "outputs": [],
   "source": [
    "classmates = [\n",
    "  'Tiny Tim',\n",
    "  'Silly Sally',\n",
    "  'Sad Sam',\n",
    "  'Happy Henry',\n",
    "]\n",
    "fruits = [\n",
    "    'apples',\n",
    "    'oranges'\n",
    "    'bananas'\n",
    "]\n",
    "zip_codes = [\n",
    "    11223,\n",
    "    87643,\n",
    "    90823,\n",
    "]"
   ]
  },
  {
   "cell_type": "markdown",
   "id": "674d6312-a303-4723-bc17-232b370aeb09",
   "metadata": {},
   "source": [
    "## Dictionary\n",
    "A dictionary contains a key and a value part, much like a traditional dictionary. For example:"
   ]
  },
  {
   "cell_type": "code",
   "execution_count": 9,
   "id": "68f82a9f-abd7-4d15-a5dd-b1cd0ac4b704",
   "metadata": {},
   "outputs": [],
   "source": [
    "phone_lookup = {\n",
    "    'Tiny Tim': '(123) 456-789',\n",
    "    'Silly Sally': '(423) 982-2315',\n",
    "    'Sad Sam': '(632) 982-5267',\n",
    "    'Happy Henry': '(865) 814-9872',\n",
    "}"
   ]
  },
  {
   "cell_type": "markdown",
   "id": "36b41269-6f8a-4a94-9ca7-65ed5a54f987",
   "metadata": {},
   "source": [
    "The 'key' is used to look up the value in the dictionary."
   ]
  },
  {
   "cell_type": "code",
   "execution_count": null,
   "id": "4703f132-124f-4ba2-97c7-e7eac66812b3",
   "metadata": {},
   "outputs": [],
   "source": [
    "phone_lookup['Tiny Tim']"
   ]
  }
 ],
 "metadata": {
  "kernelspec": {
   "display_name": "Python 3 (ipykernel)",
   "language": "python",
   "name": "python3"
  },
  "language_info": {
   "codemirror_mode": {
    "name": "ipython",
    "version": 3
   },
   "file_extension": ".py",
   "mimetype": "text/x-python",
   "name": "python",
   "nbconvert_exporter": "python",
   "pygments_lexer": "ipython3",
   "version": "3.11.6"
  }
 },
 "nbformat": 4,
 "nbformat_minor": 5
}
