{
 "cells": [
  {
   "cell_type": "markdown",
   "id": "4f2577b5-2c09-44e8-ac47-6c343ebc7c46",
   "metadata": {},
   "source": [
    "# Your First Python Program\n",
    "Whenever learning a new programming language, typically the first program you learn to write is the so called \"Hello World\" program. All this program does, is print \"Hello World\" to the screen (or equivilent).\n",
    "\n",
    "Below is the python version of \"Hello World\"."
   ]
  },
  {
   "cell_type": "code",
   "execution_count": 1,
   "id": "b59df0b3-0233-4f43-826d-33580cdce66c",
   "metadata": {},
   "outputs": [
    {
     "name": "stdout",
     "output_type": "stream",
     "text": [
      "Hello World\n"
     ]
    }
   ],
   "source": [
    "print(\"Hello World\")"
   ]
  },
  {
   "cell_type": "markdown",
   "id": "c14045cc-0043-4a4b-977d-74207644120c",
   "metadata": {},
   "source": [
    "One line! That's it! \n",
    "\n",
    "While the program is small, there's still a lot to talk about.\n",
    "\n",
    "         print ( \"Hello World\" ) \n",
    "           ^   ^       ^       ^\n",
    "           |   |       |       |\n",
    "           |   |       |       +-- Closing parenthesis\n",
    "           |   |       |\n",
    "           |   |       +-- The string \"Hello World\"\n",
    "           |   |\n",
    "           |   +-- Opening parenthesis\n",
    "           |\n",
    "           +-- The function \"print\" is used to print information to the screen"
   ]
  },
  {
   "cell_type": "markdown",
   "id": "2cebdc52-c036-441a-9d3e-c9f3bbda7311",
   "metadata": {},
   "source": [
    "# Python Basic Types"
   ]
  },
  {
   "cell_type": "markdown",
   "id": "2b9648c8-500b-424b-ab4a-9617956ac3da",
   "metadata": {},
   "source": [
    "## 1. Strings\n",
    "A string is a sequence of characters. It can be someone's name, an address, or anything else that makes sense. A string is enclosed within a set of quotes (either single or double quote, though single quotes are preferred). For example:"
   ]
  },
  {
   "cell_type": "code",
   "execution_count": 2,
   "id": "3cca4e29-3e96-47d5-b919-f2539db2897c",
   "metadata": {},
   "outputs": [],
   "source": [
    "name = \"Ebenezer Scrooge\"\n",
    "address = \"123 Any Street, Anytown, ST 11223\""
   ]
  },
  {
   "cell_type": "markdown",
   "id": "f6005d5a-b425-4c29-a315-82a05fefd6f5",
   "metadata": {},
   "source": [
    "## 2. Integer Numbers (whole numbers)\n",
    "An integer number is any number so long as it does not have a fractional part. For instance:"
   ]
  },
  {
   "cell_type": "code",
   "execution_count": 3,
   "id": "d9c00d06-85fc-42a3-9c60-b7e08b7676c9",
   "metadata": {},
   "outputs": [],
   "source": [
    "age = 17\n",
    "zip_code = 11223"
   ]
  },
  {
   "cell_type": "markdown",
   "id": "5cd988f1-84ba-4d46-958b-e28b65dc72b0",
   "metadata": {},
   "source": [
    "## 3. Floating Point or Real Numbers (decimal numbers)\n",
    "A floating point or real number is any number that has a decimal part. For example:"
   ]
  },
  {
   "cell_type": "code",
   "execution_count": 4,
   "id": "7383939b-6e00-4de4-b9be-3b46454838f8",
   "metadata": {},
   "outputs": [],
   "source": [
    "pi = 3.14159\n",
    "total_cost = 42.67"
   ]
  },
  {
   "cell_type": "markdown",
   "id": "03208b7c-ebfe-4e99-897f-2675b17c0343",
   "metadata": {},
   "source": [
    "## 4. Lists or Arrays\n",
    "A list or array is a collection of related values. To create a list, do the following:\n",
    "\n",
    "            +-- variable that we're assigning the value to\n",
    "            |    +-- Assignment operator\n",
    "            |    | +-- opening square bracket\n",
    "            v    v v\n",
    "         my_list = [\n",
    "\n",
    "                +-- item to add to your list. This can be a string or number\n",
    "                |   +-- comma separating each item in your list\n",
    "                v   v\n",
    "            'item 1',\n",
    "            'item 2',  <-- zero or more items that you want to add to the list\n",
    "            'item 3',\n",
    "                \n",
    "         ]  <-- closing square bracket\n",
    "\n",
    "For example"
   ]
  },
  {
   "cell_type": "code",
   "execution_count": 5,
   "id": "e2e453a6-3190-4275-a668-9679a98443f0",
   "metadata": {},
   "outputs": [],
   "source": [
    "empty_list = []\n",
    "\n",
    "fruits = [\n",
    "    'apples',\n",
    "    'oranges',\n",
    "    'bananas'\n",
    "]"
   ]
  },
  {
   "cell_type": "markdown",
   "id": "a450613f-21be-4031-b4f2-2c52d8218ffe",
   "metadata": {},
   "source": [
    "While a list can hold multiple items, you can access each individual item if you need. For instance:"
   ]
  },
  {
   "cell_type": "code",
   "execution_count": 13,
   "id": "f4ac064a-9120-47b8-a125-d109edfeeb04",
   "metadata": {},
   "outputs": [
    {
     "name": "stdout",
     "output_type": "stream",
     "text": [
      "bananas\n"
     ]
    }
   ],
   "source": [
    "banana = fruits[2]\n",
    "print(banana)"
   ]
  },
  {
   "cell_type": "markdown",
   "id": "bbc28690-0fc7-4179-9493-13542cf32a8f",
   "metadata": {},
   "source": [
    "To find our favorite fruit, we used square brackets to index into the list:\n",
    "\n",
    "         banana = fruits [ 2 ]\n",
    "            ^   ^    ^   ^ ^ ^\n",
    "            |   |    |   | | +-- closing square bracket\n",
    "            |   |    |   | +-- Index that we want to get. In this case, we're asking for the 3rd item in the list\n",
    "            |   |    |   +-- opening square bracket\n",
    "            |   |    +-- the list that we're accessing\n",
    "            |   +-- Assignment operator\n",
    "            +-- variable that we're assigning the value to\n",
    "\n",
    "But wait! Did you notice something wierd going on? When we accessed the list 'fruits', we asked element #2, which should have been 'oranges'!\n",
    "\n",
    "In programming, list and other counters often times start at index 0! If we look at the variable fruits closer we'll see that 'apples' is element 0, 'oranges' is element 1 and 'bananas' is element 2."
   ]
  },
  {
   "cell_type": "code",
   "execution_count": 14,
   "id": "c7375f50-d351-4e7c-9f46-3cb04b749eae",
   "metadata": {},
   "outputs": [
    {
     "name": "stdout",
     "output_type": "stream",
     "text": [
      "apples\n"
     ]
    }
   ],
   "source": [
    "print(fruits[0])"
   ]
  },
  {
   "cell_type": "code",
   "execution_count": 15,
   "id": "a9cf08d5-3436-4f3d-a301-a42bc143a3e9",
   "metadata": {},
   "outputs": [
    {
     "name": "stdout",
     "output_type": "stream",
     "text": [
      "oranges\n"
     ]
    }
   ],
   "source": [
    "print(fruits[1])"
   ]
  },
  {
   "cell_type": "code",
   "execution_count": 16,
   "id": "dd209b6b-e7b5-4cfb-9bd3-cc63af3de937",
   "metadata": {},
   "outputs": [
    {
     "name": "stdout",
     "output_type": "stream",
     "text": [
      "bananas\n"
     ]
    }
   ],
   "source": [
    "print(fruits[2])"
   ]
  },
  {
   "cell_type": "markdown",
   "id": "674d6312-a303-4723-bc17-232b370aeb09",
   "metadata": {},
   "source": [
    "## 5. Dictionary\n",
    "In a traditional dictionary, when you look up a word, you can get it's definition (or value). A Python dictionary works the same way. A Python dictionary contains a key and a value part. They 'key' can be used to look up the 'value'. To create a dictionary, do the following:\n",
    "\n",
    "               +-- variable that we're assigning the value to\n",
    "               |       +-- Assignment operator\n",
    "               |       | +-- opening curley brace\n",
    "               v       v v\n",
    "         my_dictionary = {\n",
    "\n",
    "               +-- Key identifier used to look up the value in your dictionary\n",
    "               |  +-- Colon separating your key and value\n",
    "               |  |     +-- Value to associate with your key\n",
    "               |  |     |   +--  comma separating each key:value pair\n",
    "               v  v     v   v\n",
    "            'key1': 'value1',\n",
    "            'key2': 'value2',  <-- zero or more key:value pairs that you want to add to the dictionary\n",
    "            'key3': 'value3',\n",
    "                \n",
    "         }  <-- closing curley brace\n",
    "\n",
    "For example:"
   ]
  },
  {
   "cell_type": "code",
   "execution_count": 8,
   "id": "68f82a9f-abd7-4d15-a5dd-b1cd0ac4b704",
   "metadata": {},
   "outputs": [],
   "source": [
    "empty_dictionary = {}\n",
    "\n",
    "phone_lookup = {\n",
    "    'Tiny Tim': '(123) 456-789',\n",
    "    'Silly Sally': '(423) 982-2315',\n",
    "    'Sad Sam': '(632) 982-5267',\n",
    "    'Happy Henry': '(865) 814-9872',\n",
    "}"
   ]
  },
  {
   "cell_type": "markdown",
   "id": "36b41269-6f8a-4a94-9ca7-65ed5a54f987",
   "metadata": {},
   "source": [
    "The 'key' is used to look up the value in the dictionary.\n",
    "\n",
    "         value = my_dictionary [ key ]\n",
    "            ^  ^       ^       ^  ^  ^\n",
    "            |  |       |       |  |  +-- closing square bracket\n",
    "            |  |       |       |  +-- Key value that we want to look up\n",
    "            |  |       |       +-- opening square bracket\n",
    "            |  |       +-- the dictionary that we're accessing\n",
    "            |  +-- Assignment operator\n",
    "            +-- variable that we're assigning the value to"
   ]
  },
  {
   "cell_type": "code",
   "execution_count": 9,
   "id": "4703f132-124f-4ba2-97c7-e7eac66812b3",
   "metadata": {},
   "outputs": [
    {
     "data": {
      "text/plain": [
       "'(123) 456-789'"
      ]
     },
     "execution_count": 9,
     "metadata": {},
     "output_type": "execute_result"
    }
   ],
   "source": [
    "phone_lookup['Tiny Tim']"
   ]
  },
  {
   "cell_type": "markdown",
   "id": "0f797837-b446-47e8-9925-aaa649ab38cd",
   "metadata": {},
   "source": [
    "# 6. Boolean (True / False) type\n",
    "\n",
    "The Boolean type can be used to indicate if something is True or not. For instance, is the lightbulb in your room that you're sitting in on or off? "
   ]
  },
  {
   "cell_type": "code",
   "execution_count": 10,
   "id": "524f07fd-458d-4ed0-8f89-9a5c9319618f",
   "metadata": {},
   "outputs": [],
   "source": [
    "is_light_on = True\n",
    "is_light_on = False"
   ]
  },
  {
   "cell_type": "markdown",
   "id": "c81f79b6-5934-475a-a923-9b1271f9ca23",
   "metadata": {},
   "source": [
    "# Mathmatical Operations\n",
    "\n",
    "| Operation | Operator | Comments |\n",
    "| --- | --- | --- |\n",
    "| Addition  | x + y | x and y may be integers or floats |\n",
    "| Subtraction | x - y | x and y may be integers or floats |\n",
    "| Multiplication | x * y | x and y may be integers or floats |\n",
    "| Division | x / y | x and y may be integeres or floats. The result will always be a float. |\n"
   ]
  },
  {
   "cell_type": "code",
   "execution_count": 11,
   "id": "8c263c00-b6b4-428a-9e04-da50c4c84767",
   "metadata": {},
   "outputs": [
    {
     "name": "stdout",
     "output_type": "stream",
     "text": [
      "7\n"
     ]
    }
   ],
   "source": [
    "num_apples = 3\n",
    "num_oranges = 4\n",
    "total_fruit = num_apples + num_oranges\n",
    "print(total_fruit)"
   ]
  },
  {
   "cell_type": "markdown",
   "id": "3439eb11-fec2-4074-bffa-2148fe784031",
   "metadata": {},
   "source": [
    "# Exercises"
   ]
  },
  {
   "cell_type": "markdown",
   "id": "5e5279d0-10b3-41f9-8769-e3f5dc170c30",
   "metadata": {},
   "source": [
    "1. Write a program that converts 12.5 inches into centimeters and prints the result to the screen. Note, there are 12.7 centimeters in 5 inches. You can use multiplcation, division addition, and subtraction."
   ]
  },
  {
   "cell_type": "markdown",
   "id": "db2e4159-6c8a-4e9d-ba08-4d2219f030d7",
   "metadata": {},
   "source": [
    "2. Create a list of your to 5 favorite movies. Print the top 3 movies to the screen."
   ]
  },
  {
   "cell_type": "markdown",
   "id": "2e450cc3-ddc7-4e48-ac4f-f1504d9eee71",
   "metadata": {},
   "source": [
    "3. On averate Sally drove 6.2 miles per day during the month of October. Calculate the total number of miles that Sally drove for the month and print the result to the screen."
   ]
  },
  {
   "cell_type": "markdown",
   "id": "ec341312-87a9-416b-adbf-222d58f44884",
   "metadata": {},
   "source": [
    "4. Tim has seven apples. If Tim keeps one for himself, and divides the rest among his 3 friends, how many apples does each friend get? \n",
    "Calculate the answer and print the result to the screen."
   ]
  },
  {
   "cell_type": "markdown",
   "id": "a657956b-c161-4b5d-8d54-25910c82e92a",
   "metadata": {},
   "source": [
    "5. Sam has entered his friends phone numbers into the following dictionary. Print to the screen the phone numbers for:\n",
    "    * Samantha\n",
    "    * Robert\n",
    "    * Allison"
   ]
  },
  {
   "cell_type": "code",
   "execution_count": 12,
   "id": "87428b33-1381-49df-a693-12d2dfc97c70",
   "metadata": {},
   "outputs": [],
   "source": [
    "phone_numbers = {\n",
    "    \"Timothy\": \"(844) 479-5728\",\n",
    "    \"Robert\": \"(420) 228-9032\",\n",
    "    \"Greg\": \"(311) 902-2240\",\n",
    "    \"Allison\": \"(220) 327-8921\",\n",
    "    \"Samantha\": \"(279) 789-3458\",\n",
    "}"
   ]
  },
  {
   "cell_type": "markdown",
   "id": "e88dde13-1aee-4bca-8d12-9ebe1e0e9871",
   "metadata": {},
   "source": [
    "# References\n",
    "* [Hello World](https://www.codecademy.com/learn/learn-python-3/modules/learn-python3-hello-world/cheatsheet)\n",
    "* [String Cheatsheet](https://www.codecademy.com/learn/learn-python-3/modules/learn-python3-strings/cheatsheet)\n",
    "* [List Cheatsheet](https://www.codecademy.com/learn/learn-python-3/modules/learn-python3-lists/cheatsheet)\n",
    "* [Dictionary Cheatsheet](https://www.codecademy.com/learn/learn-python-3/modules/learn-python3-dictionaries/cheatsheet)"
   ]
  }
 ],
 "metadata": {
  "kernelspec": {
   "display_name": "Python 3 (ipykernel)",
   "language": "python",
   "name": "python3"
  },
  "language_info": {
   "codemirror_mode": {
    "name": "ipython",
    "version": 3
   },
   "file_extension": ".py",
   "mimetype": "text/x-python",
   "name": "python",
   "nbconvert_exporter": "python",
   "pygments_lexer": "ipython3",
   "version": "3.11.6"
  }
 },
 "nbformat": 4,
 "nbformat_minor": 5
}
